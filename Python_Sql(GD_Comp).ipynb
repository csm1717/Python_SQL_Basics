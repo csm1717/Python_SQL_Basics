{
 "cells": [
  {
   "cell_type": "markdown",
   "id": "13b9802e",
   "metadata": {},
   "source": [
    "# GO DIG IQ\n",
    "# PYTHON\n",
    "* Pattern codes\n",
    "* small string codes\n",
    "* Higher order Function\n",
    "* map , resdce , filter\n",
    "* List comprehension\n",
    "* Dictionary comprehension\n",
    "* OOPS in python\n"
   ]
  },
  {
   "cell_type": "code",
   "execution_count": 2,
   "id": "cd446879",
   "metadata": {},
   "outputs": [
    {
     "name": "stdout",
     "output_type": "stream",
     "text": [
      "Collecting pandasql\n",
      "  Downloading pandasql-0.7.3.tar.gz (26 kB)\n",
      "  Preparing metadata (setup.py): started\n",
      "  Preparing metadata (setup.py): finished with status 'done'\n",
      "Requirement already satisfied: numpy in c:\\users\\amruta marne\\anaconda3\\lib\\site-packages (from pandasql) (1.21.5)\n",
      "Requirement already satisfied: pandas in c:\\users\\amruta marne\\anaconda3\\lib\\site-packages (from pandasql) (1.4.4)\n",
      "Requirement already satisfied: sqlalchemy in c:\\users\\amruta marne\\anaconda3\\lib\\site-packages (from pandasql) (1.4.39)\n",
      "Requirement already satisfied: python-dateutil>=2.8.1 in c:\\users\\amruta marne\\anaconda3\\lib\\site-packages (from pandas->pandasql) (2.8.2)\n",
      "Requirement already satisfied: pytz>=2020.1 in c:\\users\\amruta marne\\anaconda3\\lib\\site-packages (from pandas->pandasql) (2022.1)\n",
      "Requirement already satisfied: greenlet!=0.4.17 in c:\\users\\amruta marne\\anaconda3\\lib\\site-packages (from sqlalchemy->pandasql) (1.1.1)\n",
      "Requirement already satisfied: six>=1.5 in c:\\users\\amruta marne\\anaconda3\\lib\\site-packages (from python-dateutil>=2.8.1->pandas->pandasql) (1.16.0)\n",
      "Building wheels for collected packages: pandasql\n",
      "  Building wheel for pandasql (setup.py): started\n",
      "  Building wheel for pandasql (setup.py): finished with status 'done'\n",
      "  Created wheel for pandasql: filename=pandasql-0.7.3-py3-none-any.whl size=26768 sha256=c778193abc30d50063b6ca4fd65da28c3992bc077933d0a75a80a6c29b37aa4c\n",
      "  Stored in directory: c:\\users\\amruta marne\\appdata\\local\\pip\\cache\\wheels\\63\\e8\\ec\\75b1df467ecf57b6ececb32cb16f4e86697cbfe55cb0c51f07\n",
      "Successfully built pandasql\n",
      "Installing collected packages: pandasql\n",
      "Successfully installed pandasql-0.7.3\n",
      "Note: you may need to restart the kernel to use updated packages.\n"
     ]
    }
   ],
   "source": [
    "pip install pandasql"
   ]
  },
  {
   "cell_type": "code",
   "execution_count": 1,
   "id": "e1a7aa85",
   "metadata": {},
   "outputs": [],
   "source": [
    "import pandas as pd"
   ]
  },
  {
   "cell_type": "code",
   "execution_count": 2,
   "id": "79c9a45e",
   "metadata": {},
   "outputs": [],
   "source": [
    "from pandasql import sqldf"
   ]
  },
  {
   "cell_type": "code",
   "execution_count": 4,
   "id": "c17f5c91",
   "metadata": {},
   "outputs": [],
   "source": [
    "drinks = pd.read_csv(r\"C:\\Users\\amruta marne\\Desktop\\OffCampus\\Company_Questions\\Go_digital\\Drinks (4).csv\")"
   ]
  },
  {
   "cell_type": "code",
   "execution_count": 5,
   "id": "06b6689e",
   "metadata": {},
   "outputs": [
    {
     "data": {
      "text/html": [
       "<div>\n",
       "<style scoped>\n",
       "    .dataframe tbody tr th:only-of-type {\n",
       "        vertical-align: middle;\n",
       "    }\n",
       "\n",
       "    .dataframe tbody tr th {\n",
       "        vertical-align: top;\n",
       "    }\n",
       "\n",
       "    .dataframe thead th {\n",
       "        text-align: right;\n",
       "    }\n",
       "</style>\n",
       "<table border=\"1\" class=\"dataframe\">\n",
       "  <thead>\n",
       "    <tr style=\"text-align: right;\">\n",
       "      <th></th>\n",
       "      <th>Unnamed: 0</th>\n",
       "      <th>Drink_Name</th>\n",
       "      <th>Quantity</th>\n",
       "      <th>continent</th>\n",
       "    </tr>\n",
       "  </thead>\n",
       "  <tbody>\n",
       "    <tr>\n",
       "      <th>0</th>\n",
       "      <td>0</td>\n",
       "      <td>beer_servings</td>\n",
       "      <td>1630</td>\n",
       "      <td>AS</td>\n",
       "    </tr>\n",
       "    <tr>\n",
       "      <th>1</th>\n",
       "      <td>1</td>\n",
       "      <td>spirit_servings</td>\n",
       "      <td>2677</td>\n",
       "      <td>AS</td>\n",
       "    </tr>\n",
       "    <tr>\n",
       "      <th>2</th>\n",
       "      <td>2</td>\n",
       "      <td>wine_servings</td>\n",
       "      <td>399</td>\n",
       "      <td>AS</td>\n",
       "    </tr>\n",
       "    <tr>\n",
       "      <th>3</th>\n",
       "      <td>3</td>\n",
       "      <td>beer_servings</td>\n",
       "      <td>8720</td>\n",
       "      <td>EU</td>\n",
       "    </tr>\n",
       "    <tr>\n",
       "      <th>4</th>\n",
       "      <td>4</td>\n",
       "      <td>spirit_servings</td>\n",
       "      <td>5965</td>\n",
       "      <td>EU</td>\n",
       "    </tr>\n",
       "  </tbody>\n",
       "</table>\n",
       "</div>"
      ],
      "text/plain": [
       "   Unnamed: 0       Drink_Name  Quantity continent\n",
       "0           0    beer_servings      1630        AS\n",
       "1           1  spirit_servings      2677        AS\n",
       "2           2    wine_servings       399        AS\n",
       "3           3    beer_servings      8720        EU\n",
       "4           4  spirit_servings      5965        EU"
      ]
     },
     "execution_count": 5,
     "metadata": {},
     "output_type": "execute_result"
    }
   ],
   "source": [
    "drinks.head()"
   ]
  },
  {
   "cell_type": "code",
   "execution_count": 7,
   "id": "418bc34b",
   "metadata": {},
   "outputs": [
    {
     "name": "stdout",
     "output_type": "stream",
     "text": [
      "<class 'pandas.core.frame.DataFrame'>\n",
      "RangeIndex: 15 entries, 0 to 14\n",
      "Data columns (total 4 columns):\n",
      " #   Column      Non-Null Count  Dtype \n",
      "---  ------      --------------  ----- \n",
      " 0   Unnamed: 0  15 non-null     int64 \n",
      " 1   Drink_Name  15 non-null     object\n",
      " 2   Quantity    15 non-null     int64 \n",
      " 3   continent   15 non-null     object\n",
      "dtypes: int64(2), object(2)\n",
      "memory usage: 608.0+ bytes\n"
     ]
    }
   ],
   "source": [
    "drinks.info()"
   ]
  },
  {
   "cell_type": "code",
   "execution_count": 8,
   "id": "00a99f4a",
   "metadata": {},
   "outputs": [
    {
     "data": {
      "text/html": [
       "<div>\n",
       "<style scoped>\n",
       "    .dataframe tbody tr th:only-of-type {\n",
       "        vertical-align: middle;\n",
       "    }\n",
       "\n",
       "    .dataframe tbody tr th {\n",
       "        vertical-align: top;\n",
       "    }\n",
       "\n",
       "    .dataframe thead th {\n",
       "        text-align: right;\n",
       "    }\n",
       "</style>\n",
       "<table border=\"1\" class=\"dataframe\">\n",
       "  <thead>\n",
       "    <tr style=\"text-align: right;\">\n",
       "      <th></th>\n",
       "      <th>Unnamed: 0</th>\n",
       "      <th>Drink_Name</th>\n",
       "      <th>Quantity</th>\n",
       "      <th>continent</th>\n",
       "    </tr>\n",
       "  </thead>\n",
       "  <tbody>\n",
       "    <tr>\n",
       "      <th>0</th>\n",
       "      <td>0</td>\n",
       "      <td>beer_servings</td>\n",
       "      <td>1630</td>\n",
       "      <td>AS</td>\n",
       "    </tr>\n",
       "    <tr>\n",
       "      <th>1</th>\n",
       "      <td>1</td>\n",
       "      <td>spirit_servings</td>\n",
       "      <td>2677</td>\n",
       "      <td>AS</td>\n",
       "    </tr>\n",
       "    <tr>\n",
       "      <th>2</th>\n",
       "      <td>2</td>\n",
       "      <td>wine_servings</td>\n",
       "      <td>399</td>\n",
       "      <td>AS</td>\n",
       "    </tr>\n",
       "    <tr>\n",
       "      <th>3</th>\n",
       "      <td>3</td>\n",
       "      <td>beer_servings</td>\n",
       "      <td>8720</td>\n",
       "      <td>EU</td>\n",
       "    </tr>\n",
       "    <tr>\n",
       "      <th>4</th>\n",
       "      <td>4</td>\n",
       "      <td>spirit_servings</td>\n",
       "      <td>5965</td>\n",
       "      <td>EU</td>\n",
       "    </tr>\n",
       "    <tr>\n",
       "      <th>5</th>\n",
       "      <td>5</td>\n",
       "      <td>wine_servings</td>\n",
       "      <td>6400</td>\n",
       "      <td>EU</td>\n",
       "    </tr>\n",
       "    <tr>\n",
       "      <th>6</th>\n",
       "      <td>6</td>\n",
       "      <td>beer_servings</td>\n",
       "      <td>3258</td>\n",
       "      <td>AF</td>\n",
       "    </tr>\n",
       "    <tr>\n",
       "      <th>7</th>\n",
       "      <td>7</td>\n",
       "      <td>spirit_servings</td>\n",
       "      <td>866</td>\n",
       "      <td>AF</td>\n",
       "    </tr>\n",
       "    <tr>\n",
       "      <th>8</th>\n",
       "      <td>8</td>\n",
       "      <td>wine_servings</td>\n",
       "      <td>862</td>\n",
       "      <td>AF</td>\n",
       "    </tr>\n",
       "    <tr>\n",
       "      <th>9</th>\n",
       "      <td>12</td>\n",
       "      <td>beer_servings</td>\n",
       "      <td>2101</td>\n",
       "      <td>SA</td>\n",
       "    </tr>\n",
       "    <tr>\n",
       "      <th>10</th>\n",
       "      <td>13</td>\n",
       "      <td>spirit_servings</td>\n",
       "      <td>1377</td>\n",
       "      <td>SA</td>\n",
       "    </tr>\n",
       "    <tr>\n",
       "      <th>11</th>\n",
       "      <td>14</td>\n",
       "      <td>wine_servings</td>\n",
       "      <td>749</td>\n",
       "      <td>SA</td>\n",
       "    </tr>\n",
       "    <tr>\n",
       "      <th>12</th>\n",
       "      <td>15</td>\n",
       "      <td>beer_servings</td>\n",
       "      <td>1435</td>\n",
       "      <td>OC</td>\n",
       "    </tr>\n",
       "    <tr>\n",
       "      <th>13</th>\n",
       "      <td>16</td>\n",
       "      <td>spirit_servings</td>\n",
       "      <td>935</td>\n",
       "      <td>OC</td>\n",
       "    </tr>\n",
       "    <tr>\n",
       "      <th>14</th>\n",
       "      <td>17</td>\n",
       "      <td>wine_servings</td>\n",
       "      <td>570</td>\n",
       "      <td>OC</td>\n",
       "    </tr>\n",
       "  </tbody>\n",
       "</table>\n",
       "</div>"
      ],
      "text/plain": [
       "    Unnamed: 0       Drink_Name  Quantity continent\n",
       "0            0    beer_servings      1630        AS\n",
       "1            1  spirit_servings      2677        AS\n",
       "2            2    wine_servings       399        AS\n",
       "3            3    beer_servings      8720        EU\n",
       "4            4  spirit_servings      5965        EU\n",
       "5            5    wine_servings      6400        EU\n",
       "6            6    beer_servings      3258        AF\n",
       "7            7  spirit_servings       866        AF\n",
       "8            8    wine_servings       862        AF\n",
       "9           12    beer_servings      2101        SA\n",
       "10          13  spirit_servings      1377        SA\n",
       "11          14    wine_servings       749        SA\n",
       "12          15    beer_servings      1435        OC\n",
       "13          16  spirit_servings       935        OC\n",
       "14          17    wine_servings       570        OC"
      ]
     },
     "execution_count": 8,
     "metadata": {},
     "output_type": "execute_result"
    }
   ],
   "source": [
    "sqldf(\"select * from drinks\")"
   ]
  },
  {
   "cell_type": "markdown",
   "id": "cadf242d",
   "metadata": {},
   "source": [
    "# Q1"
   ]
  },
  {
   "cell_type": "code",
   "execution_count": 56,
   "id": "e30145a2",
   "metadata": {},
   "outputs": [
    {
     "data": {
      "text/html": [
       "<div>\n",
       "<style scoped>\n",
       "    .dataframe tbody tr th:only-of-type {\n",
       "        vertical-align: middle;\n",
       "    }\n",
       "\n",
       "    .dataframe tbody tr th {\n",
       "        vertical-align: top;\n",
       "    }\n",
       "\n",
       "    .dataframe thead th {\n",
       "        text-align: right;\n",
       "    }\n",
       "</style>\n",
       "<table border=\"1\" class=\"dataframe\">\n",
       "  <thead>\n",
       "    <tr style=\"text-align: right;\">\n",
       "      <th></th>\n",
       "      <th>continent</th>\n",
       "      <th>beer_served_in_Asia</th>\n",
       "    </tr>\n",
       "  </thead>\n",
       "  <tbody>\n",
       "    <tr>\n",
       "      <th>0</th>\n",
       "      <td>AS</td>\n",
       "      <td>1630</td>\n",
       "    </tr>\n",
       "  </tbody>\n",
       "</table>\n",
       "</div>"
      ],
      "text/plain": [
       "  continent  beer_served_in_Asia\n",
       "0        AS                 1630"
      ]
     },
     "execution_count": 56,
     "metadata": {},
     "output_type": "execute_result"
    }
   ],
   "source": [
    "#Q1) can you tell me how much beer is served in asia \n",
    "sqldf(\"select continent, sum(Quantity) as beer_served_in_Asia from drinks where continent = 'AS' and  Drink_Name = 'beer_servings' \")"
   ]
  },
  {
   "cell_type": "markdown",
   "id": "884b6ea3",
   "metadata": {},
   "source": [
    "# Q2"
   ]
  },
  {
   "cell_type": "code",
   "execution_count": 6,
   "id": "b42e3c03",
   "metadata": {},
   "outputs": [
    {
     "data": {
      "text/html": [
       "<div>\n",
       "<style scoped>\n",
       "    .dataframe tbody tr th:only-of-type {\n",
       "        vertical-align: middle;\n",
       "    }\n",
       "\n",
       "    .dataframe tbody tr th {\n",
       "        vertical-align: top;\n",
       "    }\n",
       "\n",
       "    .dataframe thead th {\n",
       "        text-align: right;\n",
       "    }\n",
       "</style>\n",
       "<table border=\"1\" class=\"dataframe\">\n",
       "  <thead>\n",
       "    <tr style=\"text-align: right;\">\n",
       "      <th></th>\n",
       "      <th>continent</th>\n",
       "      <th>beer_served_AcrossEach_Continent</th>\n",
       "    </tr>\n",
       "  </thead>\n",
       "  <tbody>\n",
       "    <tr>\n",
       "      <th>0</th>\n",
       "      <td>AF</td>\n",
       "      <td>4986</td>\n",
       "    </tr>\n",
       "    <tr>\n",
       "      <th>1</th>\n",
       "      <td>AS</td>\n",
       "      <td>4706</td>\n",
       "    </tr>\n",
       "    <tr>\n",
       "      <th>2</th>\n",
       "      <td>EU</td>\n",
       "      <td>21085</td>\n",
       "    </tr>\n",
       "    <tr>\n",
       "      <th>3</th>\n",
       "      <td>OC</td>\n",
       "      <td>2940</td>\n",
       "    </tr>\n",
       "    <tr>\n",
       "      <th>4</th>\n",
       "      <td>SA</td>\n",
       "      <td>4227</td>\n",
       "    </tr>\n",
       "  </tbody>\n",
       "</table>\n",
       "</div>"
      ],
      "text/plain": [
       "  continent  beer_served_AcrossEach_Continent\n",
       "0        AF                              4986\n",
       "1        AS                              4706\n",
       "2        EU                             21085\n",
       "3        OC                              2940\n",
       "4        SA                              4227"
      ]
     },
     "execution_count": 6,
     "metadata": {},
     "output_type": "execute_result"
    }
   ],
   "source": [
    "#Q2) What is the number of drinks served across each continent\n",
    "sqldf(\"select continent, sum(Quantity) as beer_served_AcrossEach_Continent from drinks group by continent \")"
   ]
  },
  {
   "cell_type": "markdown",
   "id": "366aa3f4",
   "metadata": {},
   "source": [
    "# Q3"
   ]
  },
  {
   "cell_type": "code",
   "execution_count": 81,
   "id": "f666825b",
   "metadata": {},
   "outputs": [
    {
     "data": {
      "text/html": [
       "<div>\n",
       "<style scoped>\n",
       "    .dataframe tbody tr th:only-of-type {\n",
       "        vertical-align: middle;\n",
       "    }\n",
       "\n",
       "    .dataframe tbody tr th {\n",
       "        vertical-align: top;\n",
       "    }\n",
       "\n",
       "    .dataframe thead th {\n",
       "        text-align: right;\n",
       "    }\n",
       "</style>\n",
       "<table border=\"1\" class=\"dataframe\">\n",
       "  <thead>\n",
       "    <tr style=\"text-align: right;\">\n",
       "      <th></th>\n",
       "      <th>Drink_Name</th>\n",
       "      <th>quantity</th>\n",
       "      <th>second_highest_serving</th>\n",
       "      <th>rank</th>\n",
       "    </tr>\n",
       "  </thead>\n",
       "  <tbody>\n",
       "    <tr>\n",
       "      <th>0</th>\n",
       "      <td>beer_servings</td>\n",
       "      <td>8720</td>\n",
       "      <td>EU</td>\n",
       "      <td>1</td>\n",
       "    </tr>\n",
       "    <tr>\n",
       "      <th>1</th>\n",
       "      <td>beer_servings</td>\n",
       "      <td>3258</td>\n",
       "      <td>AF</td>\n",
       "      <td>2</td>\n",
       "    </tr>\n",
       "    <tr>\n",
       "      <th>2</th>\n",
       "      <td>beer_servings</td>\n",
       "      <td>2101</td>\n",
       "      <td>SA</td>\n",
       "      <td>3</td>\n",
       "    </tr>\n",
       "    <tr>\n",
       "      <th>3</th>\n",
       "      <td>beer_servings</td>\n",
       "      <td>1630</td>\n",
       "      <td>AS</td>\n",
       "      <td>4</td>\n",
       "    </tr>\n",
       "    <tr>\n",
       "      <th>4</th>\n",
       "      <td>beer_servings</td>\n",
       "      <td>1435</td>\n",
       "      <td>OC</td>\n",
       "      <td>5</td>\n",
       "    </tr>\n",
       "    <tr>\n",
       "      <th>5</th>\n",
       "      <td>spirit_servings</td>\n",
       "      <td>5965</td>\n",
       "      <td>EU</td>\n",
       "      <td>1</td>\n",
       "    </tr>\n",
       "    <tr>\n",
       "      <th>6</th>\n",
       "      <td>spirit_servings</td>\n",
       "      <td>2677</td>\n",
       "      <td>AS</td>\n",
       "      <td>2</td>\n",
       "    </tr>\n",
       "    <tr>\n",
       "      <th>7</th>\n",
       "      <td>spirit_servings</td>\n",
       "      <td>1377</td>\n",
       "      <td>SA</td>\n",
       "      <td>3</td>\n",
       "    </tr>\n",
       "    <tr>\n",
       "      <th>8</th>\n",
       "      <td>spirit_servings</td>\n",
       "      <td>935</td>\n",
       "      <td>OC</td>\n",
       "      <td>4</td>\n",
       "    </tr>\n",
       "    <tr>\n",
       "      <th>9</th>\n",
       "      <td>spirit_servings</td>\n",
       "      <td>866</td>\n",
       "      <td>AF</td>\n",
       "      <td>5</td>\n",
       "    </tr>\n",
       "    <tr>\n",
       "      <th>10</th>\n",
       "      <td>wine_servings</td>\n",
       "      <td>6400</td>\n",
       "      <td>EU</td>\n",
       "      <td>1</td>\n",
       "    </tr>\n",
       "    <tr>\n",
       "      <th>11</th>\n",
       "      <td>wine_servings</td>\n",
       "      <td>862</td>\n",
       "      <td>AF</td>\n",
       "      <td>2</td>\n",
       "    </tr>\n",
       "    <tr>\n",
       "      <th>12</th>\n",
       "      <td>wine_servings</td>\n",
       "      <td>749</td>\n",
       "      <td>SA</td>\n",
       "      <td>3</td>\n",
       "    </tr>\n",
       "    <tr>\n",
       "      <th>13</th>\n",
       "      <td>wine_servings</td>\n",
       "      <td>570</td>\n",
       "      <td>OC</td>\n",
       "      <td>4</td>\n",
       "    </tr>\n",
       "    <tr>\n",
       "      <th>14</th>\n",
       "      <td>wine_servings</td>\n",
       "      <td>399</td>\n",
       "      <td>AS</td>\n",
       "      <td>5</td>\n",
       "    </tr>\n",
       "  </tbody>\n",
       "</table>\n",
       "</div>"
      ],
      "text/plain": [
       "         Drink_Name  quantity second_highest_serving  rank\n",
       "0     beer_servings      8720                     EU     1\n",
       "1     beer_servings      3258                     AF     2\n",
       "2     beer_servings      2101                     SA     3\n",
       "3     beer_servings      1630                     AS     4\n",
       "4     beer_servings      1435                     OC     5\n",
       "5   spirit_servings      5965                     EU     1\n",
       "6   spirit_servings      2677                     AS     2\n",
       "7   spirit_servings      1377                     SA     3\n",
       "8   spirit_servings       935                     OC     4\n",
       "9   spirit_servings       866                     AF     5\n",
       "10    wine_servings      6400                     EU     1\n",
       "11    wine_servings       862                     AF     2\n",
       "12    wine_servings       749                     SA     3\n",
       "13    wine_servings       570                     OC     4\n",
       "14    wine_servings       399                     AS     5"
      ]
     },
     "execution_count": 81,
     "metadata": {},
     "output_type": "execute_result"
    }
   ],
   "source": [
    "sqldf(\"select * from (select Drink_Name ,quantity,continent as second_highest_serving  ,  \\\n",
    "      dense_rank() over( partition by Drink_Name order by Quantity desc)rank  from drinks) \") "
   ]
  },
  {
   "cell_type": "markdown",
   "id": "91f1981b",
   "metadata": {},
   "source": [
    "# Q 3 Ans"
   ]
  },
  {
   "cell_type": "code",
   "execution_count": 80,
   "id": "0561d132",
   "metadata": {},
   "outputs": [
    {
     "data": {
      "text/html": [
       "<div>\n",
       "<style scoped>\n",
       "    .dataframe tbody tr th:only-of-type {\n",
       "        vertical-align: middle;\n",
       "    }\n",
       "\n",
       "    .dataframe tbody tr th {\n",
       "        vertical-align: top;\n",
       "    }\n",
       "\n",
       "    .dataframe thead th {\n",
       "        text-align: right;\n",
       "    }\n",
       "</style>\n",
       "<table border=\"1\" class=\"dataframe\">\n",
       "  <thead>\n",
       "    <tr style=\"text-align: right;\">\n",
       "      <th></th>\n",
       "      <th>Drink_Name</th>\n",
       "      <th>quantity</th>\n",
       "      <th>second_highest_serving</th>\n",
       "      <th>rank</th>\n",
       "    </tr>\n",
       "  </thead>\n",
       "  <tbody>\n",
       "    <tr>\n",
       "      <th>0</th>\n",
       "      <td>beer_servings</td>\n",
       "      <td>3258</td>\n",
       "      <td>AF</td>\n",
       "      <td>2</td>\n",
       "    </tr>\n",
       "    <tr>\n",
       "      <th>1</th>\n",
       "      <td>spirit_servings</td>\n",
       "      <td>2677</td>\n",
       "      <td>AS</td>\n",
       "      <td>2</td>\n",
       "    </tr>\n",
       "    <tr>\n",
       "      <th>2</th>\n",
       "      <td>wine_servings</td>\n",
       "      <td>862</td>\n",
       "      <td>AF</td>\n",
       "      <td>2</td>\n",
       "    </tr>\n",
       "  </tbody>\n",
       "</table>\n",
       "</div>"
      ],
      "text/plain": [
       "        Drink_Name  quantity second_highest_serving  rank\n",
       "0    beer_servings      3258                     AF     2\n",
       "1  spirit_servings      2677                     AS     2\n",
       "2    wine_servings       862                     AF     2"
      ]
     },
     "execution_count": 80,
     "metadata": {},
     "output_type": "execute_result"
    }
   ],
   "source": [
    "#Q3) can you tell me 2nd Highest country(continent) name for beer , spirit and wine serving ?\n",
    "sqldf(\"select * from (select Drink_Name ,quantity,continent as second_highest_serving  ,  \\\n",
    "      dense_rank() over( partition by Drink_Name order by Quantity desc)rank  from drinks) where rank= 2  \")"
   ]
  },
  {
   "cell_type": "markdown",
   "id": "9d8db7c1",
   "metadata": {},
   "source": [
    "# Q4"
   ]
  },
  {
   "cell_type": "code",
   "execution_count": 72,
   "id": "b791ff8e",
   "metadata": {},
   "outputs": [
    {
     "data": {
      "text/html": [
       "<div>\n",
       "<style scoped>\n",
       "    .dataframe tbody tr th:only-of-type {\n",
       "        vertical-align: middle;\n",
       "    }\n",
       "\n",
       "    .dataframe tbody tr th {\n",
       "        vertical-align: top;\n",
       "    }\n",
       "\n",
       "    .dataframe thead th {\n",
       "        text-align: right;\n",
       "    }\n",
       "</style>\n",
       "<table border=\"1\" class=\"dataframe\">\n",
       "  <thead>\n",
       "    <tr style=\"text-align: right;\">\n",
       "      <th></th>\n",
       "      <th>Drink_Name</th>\n",
       "      <th>Quantity</th>\n",
       "      <th>continent</th>\n",
       "    </tr>\n",
       "  </thead>\n",
       "  <tbody>\n",
       "    <tr>\n",
       "      <th>0</th>\n",
       "      <td>beer_servings</td>\n",
       "      <td>1630</td>\n",
       "      <td>AS</td>\n",
       "    </tr>\n",
       "    <tr>\n",
       "      <th>1</th>\n",
       "      <td>spirit_servings</td>\n",
       "      <td>2677</td>\n",
       "      <td>AS</td>\n",
       "    </tr>\n",
       "    <tr>\n",
       "      <th>2</th>\n",
       "      <td>wine_servings</td>\n",
       "      <td>399</td>\n",
       "      <td>AS</td>\n",
       "    </tr>\n",
       "    <tr>\n",
       "      <th>3</th>\n",
       "      <td>beer_servings</td>\n",
       "      <td>8720</td>\n",
       "      <td>EU</td>\n",
       "    </tr>\n",
       "    <tr>\n",
       "      <th>4</th>\n",
       "      <td>spirit_servings</td>\n",
       "      <td>5965</td>\n",
       "      <td>EU</td>\n",
       "    </tr>\n",
       "    <tr>\n",
       "      <th>5</th>\n",
       "      <td>wine_servings</td>\n",
       "      <td>6400</td>\n",
       "      <td>EU</td>\n",
       "    </tr>\n",
       "    <tr>\n",
       "      <th>6</th>\n",
       "      <td>beer_servings</td>\n",
       "      <td>3258</td>\n",
       "      <td>AF</td>\n",
       "    </tr>\n",
       "    <tr>\n",
       "      <th>7</th>\n",
       "      <td>spirit_servings</td>\n",
       "      <td>866</td>\n",
       "      <td>AF</td>\n",
       "    </tr>\n",
       "    <tr>\n",
       "      <th>8</th>\n",
       "      <td>wine_servings</td>\n",
       "      <td>862</td>\n",
       "      <td>AF</td>\n",
       "    </tr>\n",
       "    <tr>\n",
       "      <th>9</th>\n",
       "      <td>beer_servings</td>\n",
       "      <td>2101</td>\n",
       "      <td>SA</td>\n",
       "    </tr>\n",
       "    <tr>\n",
       "      <th>10</th>\n",
       "      <td>spirit_servings</td>\n",
       "      <td>1377</td>\n",
       "      <td>SA</td>\n",
       "    </tr>\n",
       "    <tr>\n",
       "      <th>11</th>\n",
       "      <td>wine_servings</td>\n",
       "      <td>749</td>\n",
       "      <td>SA</td>\n",
       "    </tr>\n",
       "    <tr>\n",
       "      <th>12</th>\n",
       "      <td>beer_servings</td>\n",
       "      <td>1435</td>\n",
       "      <td>OC</td>\n",
       "    </tr>\n",
       "    <tr>\n",
       "      <th>13</th>\n",
       "      <td>spirit_servings</td>\n",
       "      <td>935</td>\n",
       "      <td>OC</td>\n",
       "    </tr>\n",
       "    <tr>\n",
       "      <th>14</th>\n",
       "      <td>wine_servings</td>\n",
       "      <td>570</td>\n",
       "      <td>OC</td>\n",
       "    </tr>\n",
       "  </tbody>\n",
       "</table>\n",
       "</div>"
      ],
      "text/plain": [
       "         Drink_Name  Quantity continent\n",
       "0     beer_servings      1630        AS\n",
       "1   spirit_servings      2677        AS\n",
       "2     wine_servings       399        AS\n",
       "3     beer_servings      8720        EU\n",
       "4   spirit_servings      5965        EU\n",
       "5     wine_servings      6400        EU\n",
       "6     beer_servings      3258        AF\n",
       "7   spirit_servings       866        AF\n",
       "8     wine_servings       862        AF\n",
       "9     beer_servings      2101        SA\n",
       "10  spirit_servings      1377        SA\n",
       "11    wine_servings       749        SA\n",
       "12    beer_servings      1435        OC\n",
       "13  spirit_servings       935        OC\n",
       "14    wine_servings       570        OC"
      ]
     },
     "execution_count": 72,
     "metadata": {},
     "output_type": "execute_result"
    }
   ],
   "source": [
    "# Q4) Which continent has most beer servings compared to spirit servings\n",
    "sqldf(\"select Drink_Name,Quantity,continent from drinks \")"
   ]
  },
  {
   "cell_type": "markdown",
   "id": "6e302d54",
   "metadata": {},
   "source": [
    "# Cumulative Sum"
   ]
  },
  {
   "cell_type": "code",
   "execution_count": 83,
   "id": "792a4c84",
   "metadata": {},
   "outputs": [
    {
     "data": {
      "text/html": [
       "<div>\n",
       "<style scoped>\n",
       "    .dataframe tbody tr th:only-of-type {\n",
       "        vertical-align: middle;\n",
       "    }\n",
       "\n",
       "    .dataframe tbody tr th {\n",
       "        vertical-align: top;\n",
       "    }\n",
       "\n",
       "    .dataframe thead th {\n",
       "        text-align: right;\n",
       "    }\n",
       "</style>\n",
       "<table border=\"1\" class=\"dataframe\">\n",
       "  <thead>\n",
       "    <tr style=\"text-align: right;\">\n",
       "      <th></th>\n",
       "      <th>Drink_Name</th>\n",
       "      <th>Quantity</th>\n",
       "      <th>rank</th>\n",
       "      <th>cumulative</th>\n",
       "    </tr>\n",
       "  </thead>\n",
       "  <tbody>\n",
       "    <tr>\n",
       "      <th>0</th>\n",
       "      <td>wine_servings</td>\n",
       "      <td>399</td>\n",
       "      <td>1</td>\n",
       "      <td>399</td>\n",
       "    </tr>\n",
       "    <tr>\n",
       "      <th>1</th>\n",
       "      <td>wine_servings</td>\n",
       "      <td>570</td>\n",
       "      <td>2</td>\n",
       "      <td>969</td>\n",
       "    </tr>\n",
       "    <tr>\n",
       "      <th>2</th>\n",
       "      <td>wine_servings</td>\n",
       "      <td>749</td>\n",
       "      <td>3</td>\n",
       "      <td>1718</td>\n",
       "    </tr>\n",
       "    <tr>\n",
       "      <th>3</th>\n",
       "      <td>wine_servings</td>\n",
       "      <td>862</td>\n",
       "      <td>4</td>\n",
       "      <td>2580</td>\n",
       "    </tr>\n",
       "    <tr>\n",
       "      <th>4</th>\n",
       "      <td>spirit_servings</td>\n",
       "      <td>866</td>\n",
       "      <td>5</td>\n",
       "      <td>3446</td>\n",
       "    </tr>\n",
       "    <tr>\n",
       "      <th>5</th>\n",
       "      <td>spirit_servings</td>\n",
       "      <td>935</td>\n",
       "      <td>6</td>\n",
       "      <td>4381</td>\n",
       "    </tr>\n",
       "    <tr>\n",
       "      <th>6</th>\n",
       "      <td>spirit_servings</td>\n",
       "      <td>1377</td>\n",
       "      <td>7</td>\n",
       "      <td>5758</td>\n",
       "    </tr>\n",
       "    <tr>\n",
       "      <th>7</th>\n",
       "      <td>beer_servings</td>\n",
       "      <td>1435</td>\n",
       "      <td>8</td>\n",
       "      <td>7193</td>\n",
       "    </tr>\n",
       "    <tr>\n",
       "      <th>8</th>\n",
       "      <td>beer_servings</td>\n",
       "      <td>1630</td>\n",
       "      <td>9</td>\n",
       "      <td>8823</td>\n",
       "    </tr>\n",
       "    <tr>\n",
       "      <th>9</th>\n",
       "      <td>beer_servings</td>\n",
       "      <td>2101</td>\n",
       "      <td>10</td>\n",
       "      <td>10924</td>\n",
       "    </tr>\n",
       "    <tr>\n",
       "      <th>10</th>\n",
       "      <td>spirit_servings</td>\n",
       "      <td>2677</td>\n",
       "      <td>11</td>\n",
       "      <td>13601</td>\n",
       "    </tr>\n",
       "    <tr>\n",
       "      <th>11</th>\n",
       "      <td>beer_servings</td>\n",
       "      <td>3258</td>\n",
       "      <td>12</td>\n",
       "      <td>16859</td>\n",
       "    </tr>\n",
       "    <tr>\n",
       "      <th>12</th>\n",
       "      <td>spirit_servings</td>\n",
       "      <td>5965</td>\n",
       "      <td>13</td>\n",
       "      <td>22824</td>\n",
       "    </tr>\n",
       "    <tr>\n",
       "      <th>13</th>\n",
       "      <td>wine_servings</td>\n",
       "      <td>6400</td>\n",
       "      <td>14</td>\n",
       "      <td>29224</td>\n",
       "    </tr>\n",
       "    <tr>\n",
       "      <th>14</th>\n",
       "      <td>beer_servings</td>\n",
       "      <td>8720</td>\n",
       "      <td>15</td>\n",
       "      <td>37944</td>\n",
       "    </tr>\n",
       "  </tbody>\n",
       "</table>\n",
       "</div>"
      ],
      "text/plain": [
       "         Drink_Name  Quantity  rank  cumulative\n",
       "0     wine_servings       399     1         399\n",
       "1     wine_servings       570     2         969\n",
       "2     wine_servings       749     3        1718\n",
       "3     wine_servings       862     4        2580\n",
       "4   spirit_servings       866     5        3446\n",
       "5   spirit_servings       935     6        4381\n",
       "6   spirit_servings      1377     7        5758\n",
       "7     beer_servings      1435     8        7193\n",
       "8     beer_servings      1630     9        8823\n",
       "9     beer_servings      2101    10       10924\n",
       "10  spirit_servings      2677    11       13601\n",
       "11    beer_servings      3258    12       16859\n",
       "12  spirit_servings      5965    13       22824\n",
       "13    wine_servings      6400    14       29224\n",
       "14    beer_servings      8720    15       37944"
      ]
     },
     "execution_count": 83,
     "metadata": {},
     "output_type": "execute_result"
    }
   ],
   "source": [
    "# select sal,sum(sal) over(order by unique_col) as cum from table\n",
    "sqldf(\"select Drink_name,Quantity,rank , sum(quantity) over(order by rank) as cumulative from \\\n",
    "    (select * , row_number() over(order by quantity ) rank from drinks)\")"
   ]
  },
  {
   "cell_type": "code",
   "execution_count": 13,
   "id": "3e9617fb",
   "metadata": {},
   "outputs": [
    {
     "data": {
      "text/html": [
       "<div>\n",
       "<style scoped>\n",
       "    .dataframe tbody tr th:only-of-type {\n",
       "        vertical-align: middle;\n",
       "    }\n",
       "\n",
       "    .dataframe tbody tr th {\n",
       "        vertical-align: top;\n",
       "    }\n",
       "\n",
       "    .dataframe thead th {\n",
       "        text-align: right;\n",
       "    }\n",
       "</style>\n",
       "<table border=\"1\" class=\"dataframe\">\n",
       "  <thead>\n",
       "    <tr style=\"text-align: right;\">\n",
       "      <th></th>\n",
       "      <th>rank</th>\n",
       "      <th>Quantity</th>\n",
       "      <th>cumulative_sum</th>\n",
       "    </tr>\n",
       "  </thead>\n",
       "  <tbody>\n",
       "    <tr>\n",
       "      <th>0</th>\n",
       "      <td>1</td>\n",
       "      <td>399</td>\n",
       "      <td>399</td>\n",
       "    </tr>\n",
       "    <tr>\n",
       "      <th>1</th>\n",
       "      <td>2</td>\n",
       "      <td>570</td>\n",
       "      <td>969</td>\n",
       "    </tr>\n",
       "    <tr>\n",
       "      <th>2</th>\n",
       "      <td>3</td>\n",
       "      <td>749</td>\n",
       "      <td>1718</td>\n",
       "    </tr>\n",
       "    <tr>\n",
       "      <th>3</th>\n",
       "      <td>4</td>\n",
       "      <td>862</td>\n",
       "      <td>2580</td>\n",
       "    </tr>\n",
       "    <tr>\n",
       "      <th>4</th>\n",
       "      <td>5</td>\n",
       "      <td>866</td>\n",
       "      <td>3446</td>\n",
       "    </tr>\n",
       "    <tr>\n",
       "      <th>5</th>\n",
       "      <td>6</td>\n",
       "      <td>935</td>\n",
       "      <td>4381</td>\n",
       "    </tr>\n",
       "    <tr>\n",
       "      <th>6</th>\n",
       "      <td>7</td>\n",
       "      <td>1377</td>\n",
       "      <td>5758</td>\n",
       "    </tr>\n",
       "    <tr>\n",
       "      <th>7</th>\n",
       "      <td>8</td>\n",
       "      <td>1435</td>\n",
       "      <td>7193</td>\n",
       "    </tr>\n",
       "    <tr>\n",
       "      <th>8</th>\n",
       "      <td>9</td>\n",
       "      <td>1630</td>\n",
       "      <td>8823</td>\n",
       "    </tr>\n",
       "    <tr>\n",
       "      <th>9</th>\n",
       "      <td>10</td>\n",
       "      <td>2101</td>\n",
       "      <td>10924</td>\n",
       "    </tr>\n",
       "    <tr>\n",
       "      <th>10</th>\n",
       "      <td>11</td>\n",
       "      <td>2677</td>\n",
       "      <td>13601</td>\n",
       "    </tr>\n",
       "    <tr>\n",
       "      <th>11</th>\n",
       "      <td>12</td>\n",
       "      <td>3258</td>\n",
       "      <td>16859</td>\n",
       "    </tr>\n",
       "    <tr>\n",
       "      <th>12</th>\n",
       "      <td>13</td>\n",
       "      <td>5965</td>\n",
       "      <td>22824</td>\n",
       "    </tr>\n",
       "    <tr>\n",
       "      <th>13</th>\n",
       "      <td>14</td>\n",
       "      <td>6400</td>\n",
       "      <td>29224</td>\n",
       "    </tr>\n",
       "    <tr>\n",
       "      <th>14</th>\n",
       "      <td>15</td>\n",
       "      <td>8720</td>\n",
       "      <td>37944</td>\n",
       "    </tr>\n",
       "  </tbody>\n",
       "</table>\n",
       "</div>"
      ],
      "text/plain": [
       "    rank  Quantity  cumulative_sum\n",
       "0      1       399             399\n",
       "1      2       570             969\n",
       "2      3       749            1718\n",
       "3      4       862            2580\n",
       "4      5       866            3446\n",
       "5      6       935            4381\n",
       "6      7      1377            5758\n",
       "7      8      1435            7193\n",
       "8      9      1630            8823\n",
       "9     10      2101           10924\n",
       "10    11      2677           13601\n",
       "11    12      3258           16859\n",
       "12    13      5965           22824\n",
       "13    14      6400           29224\n",
       "14    15      8720           37944"
      ]
     },
     "execution_count": 13,
     "metadata": {},
     "output_type": "execute_result"
    }
   ],
   "source": [
    "# Using Self join let see \n",
    "# SELECT t1.id, t1.value, SUM(t2.value) AS cumulative_sum\n",
    "# FROM my_table t1\n",
    "# INNER JOIN my_table t2 ON t2.id <= t1.id\n",
    "# GROUP BY t1.id, t1.value\n",
    "# ORDER BY t1.id;\n",
    "\n",
    "sqldf(\" select t1.rank,t1.quantity,sum(t2.quantity) as cumulative_sum from \\\n",
    "        (select * , row_number() over(order by quantity ) rank from drinks ) t1 \\\n",
    "        inner join (select * , row_number() over(order by quantity ) rank from drinks ) t2 on t2.rank <= t1.rank \\\n",
    "        group by t1.rank, t1.quantity \\\n",
    "        order by t1.rank\")"
   ]
  },
  {
   "cell_type": "code",
   "execution_count": 147,
   "id": "7a38c36f",
   "metadata": {},
   "outputs": [
    {
     "data": {
      "text/html": [
       "<div>\n",
       "<style scoped>\n",
       "    .dataframe tbody tr th:only-of-type {\n",
       "        vertical-align: middle;\n",
       "    }\n",
       "\n",
       "    .dataframe tbody tr th {\n",
       "        vertical-align: top;\n",
       "    }\n",
       "\n",
       "    .dataframe thead th {\n",
       "        text-align: right;\n",
       "    }\n",
       "</style>\n",
       "<table border=\"1\" class=\"dataframe\">\n",
       "  <thead>\n",
       "    <tr style=\"text-align: right;\">\n",
       "      <th></th>\n",
       "      <th>continent_hasMost_beer_servings_compared_to_spirit_servings</th>\n",
       "    </tr>\n",
       "  </thead>\n",
       "  <tbody>\n",
       "    <tr>\n",
       "      <th>0</th>\n",
       "      <td>EU</td>\n",
       "    </tr>\n",
       "    <tr>\n",
       "      <th>1</th>\n",
       "      <td>AF</td>\n",
       "    </tr>\n",
       "    <tr>\n",
       "      <th>2</th>\n",
       "      <td>SA</td>\n",
       "    </tr>\n",
       "    <tr>\n",
       "      <th>3</th>\n",
       "      <td>OC</td>\n",
       "    </tr>\n",
       "  </tbody>\n",
       "</table>\n",
       "</div>"
      ],
      "text/plain": [
       "  continent_hasMost_beer_servings_compared_to_spirit_servings\n",
       "0                                                 EU         \n",
       "1                                                 AF         \n",
       "2                                                 SA         \n",
       "3                                                 OC         "
      ]
     },
     "execution_count": 147,
     "metadata": {},
     "output_type": "execute_result"
    }
   ],
   "source": [
    "# Q4) Which continent has most beer servings compared to spirit servings\n",
    "sqldf(\"select continent as continent_hasMost_beer_servings_compared_to_spirit_servings from\\\n",
    "      (select * from drinks where Drink_Name = 'beer_servings')d \\\n",
    "       where d.quantity > (select quantity from drinks where drink_name ='spirit_servings'\\\n",
    "       and d.continent = continent) \")"
   ]
  },
  {
   "cell_type": "code",
   "execution_count": null,
   "id": "db1da3d9",
   "metadata": {},
   "outputs": [],
   "source": []
  },
  {
   "cell_type": "markdown",
   "id": "2b224da2",
   "metadata": {},
   "source": [
    "# Q5"
   ]
  },
  {
   "cell_type": "code",
   "execution_count": 20,
   "id": "6b0f06db",
   "metadata": {},
   "outputs": [
    {
     "data": {
      "text/html": [
       "<div>\n",
       "<style scoped>\n",
       "    .dataframe tbody tr th:only-of-type {\n",
       "        vertical-align: middle;\n",
       "    }\n",
       "\n",
       "    .dataframe tbody tr th {\n",
       "        vertical-align: top;\n",
       "    }\n",
       "\n",
       "    .dataframe thead th {\n",
       "        text-align: right;\n",
       "    }\n",
       "</style>\n",
       "<table border=\"1\" class=\"dataframe\">\n",
       "  <thead>\n",
       "    <tr style=\"text-align: right;\">\n",
       "      <th></th>\n",
       "      <th>continent</th>\n",
       "      <th>third_lowest</th>\n",
       "    </tr>\n",
       "  </thead>\n",
       "  <tbody>\n",
       "    <tr>\n",
       "      <th>0</th>\n",
       "      <td>SA</td>\n",
       "      <td>418840</td>\n",
       "    </tr>\n",
       "  </tbody>\n",
       "</table>\n",
       "</div>"
      ],
      "text/plain": [
       "  continent  third_lowest\n",
       "0        SA        418840"
      ]
     },
     "execution_count": 20,
     "metadata": {},
     "output_type": "execute_result"
    }
   ],
   "source": [
    "#Q5)if beer price is 100 spirit price is 70 ans wine price is 150 which continent having 3rd lowest revenue\n",
    "sqldf(\" select * from ( select continent, sum(revenue) as third_lowest from \\\n",
    "      ( select *, case when Drink_Name like 'beer_servings' then 100*quantity\\\n",
    "                      when Drink_Name like 'spirit_servings' then 70*quantity\\\n",
    "                      when Drink_Name like 'wine_servings' then 150*quantity\\\n",
    "                 end as revenue\\\n",
    "      from (select *, case when drinks.Drink_Name like 'beer_servings' then 100 \\\n",
    "                      when drinks.Drink_Name like 'spirit_servings' then 70 \\\n",
    "                      when drinks.Drink_Name like 'wine_servings' then 150 \\\n",
    "                      end as rate_   from drinks)) group by continent order by sum(revenue))  limit 1 offset 2  \")\n",
    "           "
   ]
  },
  {
   "cell_type": "code",
   "execution_count": 51,
   "id": "e4798c68",
   "metadata": {},
   "outputs": [
    {
     "data": {
      "text/html": [
       "<div>\n",
       "<style scoped>\n",
       "    .dataframe tbody tr th:only-of-type {\n",
       "        vertical-align: middle;\n",
       "    }\n",
       "\n",
       "    .dataframe tbody tr th {\n",
       "        vertical-align: top;\n",
       "    }\n",
       "\n",
       "    .dataframe thead th {\n",
       "        text-align: right;\n",
       "    }\n",
       "</style>\n",
       "<table border=\"1\" class=\"dataframe\">\n",
       "  <thead>\n",
       "    <tr style=\"text-align: right;\">\n",
       "      <th></th>\n",
       "      <th>continent</th>\n",
       "      <th>total_revenue</th>\n",
       "      <th>rank_</th>\n",
       "    </tr>\n",
       "  </thead>\n",
       "  <tbody>\n",
       "    <tr>\n",
       "      <th>0</th>\n",
       "      <td>SA</td>\n",
       "      <td>418840</td>\n",
       "      <td>3</td>\n",
       "    </tr>\n",
       "  </tbody>\n",
       "</table>\n",
       "</div>"
      ],
      "text/plain": [
       "  continent  total_revenue  rank_\n",
       "0        SA         418840      3"
      ]
     },
     "execution_count": 51,
     "metadata": {},
     "output_type": "execute_result"
    }
   ],
   "source": [
    "sqldf(\"select continent,total_revenue,rank_ from (select *,dense_rank() over( order by total_revenue ) rank_  from \\\n",
    "                     (select *,sum(revenue) as total_revenue from \\\n",
    "                     (select *, case when Drink_Name like 'beer_servings' then 100*quantity\\\n",
    "                      when Drink_Name like 'spirit_servings' then 70*quantity\\\n",
    "                      when Drink_Name like 'wine_servings' then 150*quantity\\\n",
    "                 end as revenue\\\n",
    "      from (select *, case when drinks.Drink_Name like 'beer_servings' then 100 \\\n",
    "                      when drinks.Drink_Name like 'spirit_servings' then 70 \\\n",
    "                      when drinks.Drink_Name like 'wine_servings' then 150 \\\n",
    "                      end as rate_   from drinks)) group by continent order by total_revenue)) where rank_ =3  \")"
   ]
  },
  {
   "cell_type": "code",
   "execution_count": 58,
   "id": "98687e5e",
   "metadata": {},
   "outputs": [
    {
     "data": {
      "text/html": [
       "<div>\n",
       "<style scoped>\n",
       "    .dataframe tbody tr th:only-of-type {\n",
       "        vertical-align: middle;\n",
       "    }\n",
       "\n",
       "    .dataframe tbody tr th {\n",
       "        vertical-align: top;\n",
       "    }\n",
       "\n",
       "    .dataframe thead th {\n",
       "        text-align: right;\n",
       "    }\n",
       "</style>\n",
       "<table border=\"1\" class=\"dataframe\">\n",
       "  <thead>\n",
       "    <tr style=\"text-align: right;\">\n",
       "      <th></th>\n",
       "      <th>continent</th>\n",
       "      <th>total_revenue</th>\n",
       "      <th>rank_</th>\n",
       "    </tr>\n",
       "  </thead>\n",
       "  <tbody>\n",
       "    <tr>\n",
       "      <th>0</th>\n",
       "      <td>SA</td>\n",
       "      <td>418840</td>\n",
       "      <td>3</td>\n",
       "    </tr>\n",
       "  </tbody>\n",
       "</table>\n",
       "</div>"
      ],
      "text/plain": [
       "  continent  total_revenue  rank_\n",
       "0        SA         418840      3"
      ]
     },
     "execution_count": 58,
     "metadata": {},
     "output_type": "execute_result"
    }
   ],
   "source": [
    "sqldf(\"select continent,total_revenue,rank_ from (select *,dense_rank() over( order by total_revenue ) rank_  from \\\n",
    "                     (select *,sum(revenue) as total_revenue from \\\n",
    "                     (select *, case when Drink_Name like 'beer_servings' then 100*quantity\\\n",
    "                      when Drink_Name like 'spirit_servings' then 70*quantity\\\n",
    "                      when Drink_Name like 'wine_servings' then 150*quantity\\\n",
    "                 end as revenue\\\n",
    "      from drinks) group by continent order by total_revenue)) where rank_ =3  \")"
   ]
  },
  {
   "cell_type": "markdown",
   "id": "9cee5aed",
   "metadata": {},
   "source": [
    "# PYTHON "
   ]
  },
  {
   "cell_type": "code",
   "execution_count": 105,
   "id": "4d95e5b2",
   "metadata": {},
   "outputs": [],
   "source": [
    "a = [1,3,5,7,9]\n",
    "b = [8,6,4,2,0]"
   ]
  },
  {
   "cell_type": "code",
   "execution_count": 106,
   "id": "54a6719f",
   "metadata": {},
   "outputs": [],
   "source": [
    "data_frame = pd.DataFrame(list(zip(a, b)),\n",
    "               columns =['A', 'B'])"
   ]
  },
  {
   "cell_type": "code",
   "execution_count": 107,
   "id": "c95f64f9",
   "metadata": {},
   "outputs": [
    {
     "data": {
      "text/html": [
       "<div>\n",
       "<style scoped>\n",
       "    .dataframe tbody tr th:only-of-type {\n",
       "        vertical-align: middle;\n",
       "    }\n",
       "\n",
       "    .dataframe tbody tr th {\n",
       "        vertical-align: top;\n",
       "    }\n",
       "\n",
       "    .dataframe thead th {\n",
       "        text-align: right;\n",
       "    }\n",
       "</style>\n",
       "<table border=\"1\" class=\"dataframe\">\n",
       "  <thead>\n",
       "    <tr style=\"text-align: right;\">\n",
       "      <th></th>\n",
       "      <th>A</th>\n",
       "      <th>B</th>\n",
       "    </tr>\n",
       "  </thead>\n",
       "  <tbody>\n",
       "    <tr>\n",
       "      <th>0</th>\n",
       "      <td>1</td>\n",
       "      <td>8</td>\n",
       "    </tr>\n",
       "    <tr>\n",
       "      <th>1</th>\n",
       "      <td>3</td>\n",
       "      <td>6</td>\n",
       "    </tr>\n",
       "    <tr>\n",
       "      <th>2</th>\n",
       "      <td>5</td>\n",
       "      <td>4</td>\n",
       "    </tr>\n",
       "    <tr>\n",
       "      <th>3</th>\n",
       "      <td>7</td>\n",
       "      <td>2</td>\n",
       "    </tr>\n",
       "    <tr>\n",
       "      <th>4</th>\n",
       "      <td>9</td>\n",
       "      <td>0</td>\n",
       "    </tr>\n",
       "  </tbody>\n",
       "</table>\n",
       "</div>"
      ],
      "text/plain": [
       "   A  B\n",
       "0  1  8\n",
       "1  3  6\n",
       "2  5  4\n",
       "3  7  2\n",
       "4  9  0"
      ]
     },
     "execution_count": 107,
     "metadata": {},
     "output_type": "execute_result"
    }
   ],
   "source": [
    "data_frame.head()"
   ]
  },
  {
   "cell_type": "code",
   "execution_count": 108,
   "id": "28193e2d",
   "metadata": {},
   "outputs": [
    {
     "data": {
      "text/plain": [
       "Index(['A', 'B'], dtype='object')"
      ]
     },
     "execution_count": 108,
     "metadata": {},
     "output_type": "execute_result"
    }
   ],
   "source": [
    "data_frame.columns"
   ]
  },
  {
   "cell_type": "code",
   "execution_count": 178,
   "id": "5838a19e",
   "metadata": {},
   "outputs": [
    {
     "name": "stdout",
     "output_type": "stream",
     "text": [
      "5\n"
     ]
    }
   ],
   "source": [
    "print(len(a))"
   ]
  },
  {
   "cell_type": "code",
   "execution_count": 179,
   "id": "f5066a82",
   "metadata": {},
   "outputs": [
    {
     "name": "stdout",
     "output_type": "stream",
     "text": [
      "[0, 0, 0, 0, 0]\n"
     ]
    }
   ],
   "source": [
    "output=[]\n",
    "for i in range(len(a)):\n",
    "    output.append(0)\n",
    "    \n",
    "print(output)\n",
    "    "
   ]
  },
  {
   "cell_type": "code",
   "execution_count": 180,
   "id": "a4a53cfc",
   "metadata": {},
   "outputs": [
    {
     "name": "stdout",
     "output_type": "stream",
     "text": [
      "[0, 0, 1, 0, 0]\n"
     ]
    }
   ],
   "source": [
    "for i in range(len(a)):\n",
    "    if a[i]>b[i]:\n",
    "        output[i]=1\n",
    "        break    \n",
    "print(output)"
   ]
  },
  {
   "cell_type": "code",
   "execution_count": 181,
   "id": "a2c8b7ae",
   "metadata": {},
   "outputs": [
    {
     "name": "stdout",
     "output_type": "stream",
     "text": [
      "   A  B  Output\n",
      "0  1  8       0\n",
      "1  3  6       0\n",
      "2  5  4       1\n",
      "3  7  2       0\n",
      "4  9  0       0\n"
     ]
    }
   ],
   "source": [
    "data_frame = pd.DataFrame(list(zip(a, b,output)),\n",
    "               columns =['A', 'B','Output'])\n",
    "print(dataframe)"
   ]
  },
  {
   "cell_type": "code",
   "execution_count": 182,
   "id": "15e42d10",
   "metadata": {},
   "outputs": [
    {
     "data": {
      "text/html": [
       "<div>\n",
       "<style scoped>\n",
       "    .dataframe tbody tr th:only-of-type {\n",
       "        vertical-align: middle;\n",
       "    }\n",
       "\n",
       "    .dataframe tbody tr th {\n",
       "        vertical-align: top;\n",
       "    }\n",
       "\n",
       "    .dataframe thead th {\n",
       "        text-align: right;\n",
       "    }\n",
       "</style>\n",
       "<table border=\"1\" class=\"dataframe\">\n",
       "  <thead>\n",
       "    <tr style=\"text-align: right;\">\n",
       "      <th></th>\n",
       "      <th>A</th>\n",
       "      <th>B</th>\n",
       "      <th>Output</th>\n",
       "      <th>sql_output</th>\n",
       "    </tr>\n",
       "  </thead>\n",
       "  <tbody>\n",
       "    <tr>\n",
       "      <th>0</th>\n",
       "      <td>1</td>\n",
       "      <td>8</td>\n",
       "      <td>0</td>\n",
       "      <td>0</td>\n",
       "    </tr>\n",
       "    <tr>\n",
       "      <th>1</th>\n",
       "      <td>3</td>\n",
       "      <td>6</td>\n",
       "      <td>0</td>\n",
       "      <td>0</td>\n",
       "    </tr>\n",
       "    <tr>\n",
       "      <th>2</th>\n",
       "      <td>5</td>\n",
       "      <td>4</td>\n",
       "      <td>1</td>\n",
       "      <td>1</td>\n",
       "    </tr>\n",
       "    <tr>\n",
       "      <th>3</th>\n",
       "      <td>7</td>\n",
       "      <td>2</td>\n",
       "      <td>0</td>\n",
       "      <td>0</td>\n",
       "    </tr>\n",
       "    <tr>\n",
       "      <th>4</th>\n",
       "      <td>9</td>\n",
       "      <td>0</td>\n",
       "      <td>0</td>\n",
       "      <td>0</td>\n",
       "    </tr>\n",
       "  </tbody>\n",
       "</table>\n",
       "</div>"
      ],
      "text/plain": [
       "   A  B  Output  sql_output\n",
       "0  1  8       0           0\n",
       "1  3  6       0           0\n",
       "2  5  4       1           1\n",
       "3  7  2       0           0\n",
       "4  9  0       0           0"
      ]
     },
     "execution_count": 182,
     "metadata": {},
     "output_type": "execute_result"
    }
   ],
   "source": [
    "sqldf(\"select *, case when A < B then 0\\\n",
    "                     when A < 1.3*B then 1\\\n",
    "                     else 0\\\n",
    "                     end as 'sql_output' from data_frame\")"
   ]
  },
  {
   "cell_type": "code",
   "execution_count": null,
   "id": "138b1de4",
   "metadata": {},
   "outputs": [],
   "source": []
  },
  {
   "cell_type": "code",
   "execution_count": null,
   "id": "8880515f",
   "metadata": {},
   "outputs": [],
   "source": []
  },
  {
   "cell_type": "code",
   "execution_count": 120,
   "id": "1275c2af",
   "metadata": {},
   "outputs": [
    {
     "name": "stdout",
     "output_type": "stream",
     "text": [
      "        1       \n",
      "      1 2 3     \n",
      "    1 2 3 4 5   \n",
      "  1 2 3 4 5 6 7 \n"
     ]
    }
   ],
   "source": [
    "# select sal,sum(sal) over(order by unique_col) as cum from table\n",
    "n=7\n",
    "k=1\n",
    "left = n//2+1\n",
    "right = n//2+1\n",
    "for i in range(n//2+1):\n",
    "    for j in range(n+1):\n",
    "        if j>=left and j<=right:\n",
    "            print(k,end=\" \")\n",
    "            k=k+1\n",
    "        else:\n",
    "            print(\" \",end=\" \")\n",
    "    left = left-1\n",
    "    right= right+1\n",
    "    k=1\n",
    "    print()"
   ]
  },
  {
   "cell_type": "code",
   "execution_count": 2,
   "id": "0ba8cb49",
   "metadata": {},
   "outputs": [
    {
     "name": "stdout",
     "output_type": "stream",
     "text": [
      "    1 \n",
      "   1 2 \n",
      "  1 2 3 \n",
      " 1 2 3 4 \n",
      "1 2 3 4 5 \n"
     ]
    }
   ],
   "source": [
    "# for i in range(1, 6):\n",
    "#     for j in range(i):\n",
    "#         print(j+1, end='')\n",
    "#     print()\n",
    "    \n",
    "n = 5\n",
    "for i in range(1, n+1):\n",
    "    for j in range(n-i):\n",
    "        print(\" \", end=\"\")\n",
    "    for k in range(1, i+1):\n",
    "        print(k, end=\" \")\n",
    "    print()\n",
    "\n"
   ]
  },
  {
   "cell_type": "code",
   "execution_count": null,
   "id": "b5ea8446",
   "metadata": {},
   "outputs": [],
   "source": []
  },
  {
   "cell_type": "code",
   "execution_count": null,
   "id": "e356b561",
   "metadata": {},
   "outputs": [],
   "source": []
  },
  {
   "cell_type": "code",
   "execution_count": 101,
   "id": "9c5e4098",
   "metadata": {},
   "outputs": [
    {
     "name": "stdout",
     "output_type": "stream",
     "text": [
      "['f', 'e', 'd', 'c', 'b', 'a']\n",
      "fedcba\n"
     ]
    }
   ],
   "source": [
    "a = 'abcdef'\n",
    "b=[]\n",
    "for i in range(len(a)-1,-1,-1):\n",
    "    b.append(a[i])\n",
    "    \n",
    "print(b)\n",
    "c = ''.join(b)\n",
    "print(c)\n",
    "    "
   ]
  },
  {
   "cell_type": "code",
   "execution_count": 96,
   "id": "e18b70c6",
   "metadata": {},
   "outputs": [
    {
     "name": "stdout",
     "output_type": "stream",
     "text": [
      "['a', 'b', 'c', 'd']\n"
     ]
    }
   ],
   "source": [
    "a = ['c','d','a','b']\n",
    "a.sort()\n",
    "print(a)"
   ]
  },
  {
   "cell_type": "code",
   "execution_count": null,
   "id": "9a85bd56",
   "metadata": {},
   "outputs": [],
   "source": []
  },
  {
   "cell_type": "code",
   "execution_count": 18,
   "id": "815df72c",
   "metadata": {},
   "outputs": [
    {
     "name": "stdout",
     "output_type": "stream",
     "text": [
      "['dcba']\n",
      "['a', 'b', 'c', 'd']\n",
      "abcd\n"
     ]
    }
   ],
   "source": [
    "string = \"dcba\"\n",
    "# st = string.split()\n",
    "print(st)\n",
    "st1=[]\n",
    "for i in range(len(string)-1,-1,-1):\n",
    "    st1.append(string[i])\n",
    "    \n",
    "print(st1)\n",
    "st2=''.join(st1)\n",
    "print(st2)\n",
    "\n"
   ]
  },
  {
   "cell_type": "code",
   "execution_count": 98,
   "id": "7cf939f6",
   "metadata": {},
   "outputs": [
    {
     "name": "stdout",
     "output_type": "stream",
     "text": [
      "['you', 'are', 'how', 'hi']\n",
      "you are how hi\n"
     ]
    }
   ],
   "source": [
    "string = \"hi how are you\"\n",
    "st = string.split()\n",
    "st.reverse()\n",
    "print(st)\n",
    "st2 = ' '.join(st)\n",
    "print(st2)"
   ]
  },
  {
   "cell_type": "code",
   "execution_count": null,
   "id": "cce69941",
   "metadata": {},
   "outputs": [],
   "source": []
  },
  {
   "cell_type": "code",
   "execution_count": 112,
   "id": "bf125420",
   "metadata": {},
   "outputs": [],
   "source": [
    "list = [[1,2,3],[4,5,6],[7,8,9]]"
   ]
  },
  {
   "cell_type": "code",
   "execution_count": 116,
   "id": "dffa5839",
   "metadata": {},
   "outputs": [
    {
     "name": "stdout",
     "output_type": "stream",
     "text": [
      "9\n"
     ]
    }
   ],
   "source": [
    "# m = max(max(i) for i in list)\n",
    "# print(m)\n",
    "\n",
    "m = 0\n",
    "for i in list:\n",
    "    for j in range(len(i)): #range(a,b) means a inckude but b exclude and b-1 taken\n",
    "        if i[j] > m:\n",
    "            m = i[j]\n",
    "            \n",
    "print(m)\n",
    "        "
   ]
  },
  {
   "cell_type": "code",
   "execution_count": 7,
   "id": "3e3b5ad9",
   "metadata": {},
   "outputs": [
    {
     "name": "stdout",
     "output_type": "stream",
     "text": [
      "    *     \n",
      "   * *    \n",
      "  * * *   \n",
      " * * * *  \n",
      "* * * * * \n"
     ]
    }
   ],
   "source": [
    "n =5\n",
    "space = 2*n\n",
    "for i in range(1,n+1):\n",
    "    s = i*'* '\n",
    "    print(s.center(space,' '))"
   ]
  },
  {
   "cell_type": "code",
   "execution_count": 26,
   "id": "c21fc7f2",
   "metadata": {},
   "outputs": [
    {
     "name": "stdout",
     "output_type": "stream",
     "text": [
      "* * * * * \n",
      "* * * *   \n",
      "* * *     \n",
      "* *       \n",
      "*         \n"
     ]
    }
   ],
   "source": [
    "n = 5 \n",
    "space = 2*n\n",
    "for i in range(n,0,-1):\n",
    "    s = i*'* '\n",
    "    print(s.ljust(space,' '))"
   ]
  },
  {
   "cell_type": "code",
   "execution_count": 118,
   "id": "6652c9c1",
   "metadata": {},
   "outputs": [
    {
     "name": "stdout",
     "output_type": "stream",
     "text": [
      "          \n",
      "         *\n",
      "       * *\n",
      "     * * *\n",
      "   * * * *\n",
      " * * * * *\n"
     ]
    }
   ],
   "source": [
    "n = 5 \n",
    "space = 2*n\n",
    "for i in range(0,n+1):\n",
    "    s = i*' *'\n",
    "    print(s.rjust(space,' '))"
   ]
  },
  {
   "cell_type": "code",
   "execution_count": 50,
   "id": "e2c4e7bb",
   "metadata": {},
   "outputs": [
    {
     "name": "stdout",
     "output_type": "stream",
     "text": [
      "a = b B = a\n"
     ]
    }
   ],
   "source": [
    "a = 'a'\n",
    "b = 'b'\n",
    "a=ord('a')\n",
    "b=ord('b')\n",
    "a = a + b\n",
    "b = a - b\n",
    "a = a - b \n",
    "a = chr(a)\n",
    "b = chr(b)\n",
    "print(\"a =\",a ,\"B =\",b)"
   ]
  },
  {
   "cell_type": "markdown",
   "id": "e981609a",
   "metadata": {},
   "source": [
    "## High Order Function"
   ]
  },
  {
   "cell_type": "code",
   "execution_count": 3,
   "id": "551891c3",
   "metadata": {},
   "outputs": [
    {
     "name": "stdout",
     "output_type": "stream",
     "text": [
      "Sum of even numbers- 176\n",
      "Sum of odd numbers- 129\n",
      "Sum of numbers divisible by 3 - 144\n"
     ]
    }
   ],
   "source": [
    "def r_s(func,L):\n",
    "    result = 0\n",
    "    \n",
    "    for i in L:\n",
    "        if func(i):\n",
    "            result=result+i\n",
    "        \n",
    "    return result\n",
    "    \n",
    "L = [11,14,21,23,56,78,45,29,28]\n",
    "\n",
    "x = lambda x : x%2 == 0 \n",
    "y = lambda y : y%2 != 0 \n",
    "z = lambda z : z%3 == 0 \n",
    "\n",
    "print(\"Sum of even numbers-\",r_s(x,L))\n",
    "print(\"Sum of odd numbers-\",r_s(y,L))\n",
    "print(\"Sum of numbers divisible by 3 -\",r_s(z,L))"
   ]
  },
  {
   "cell_type": "markdown",
   "id": "38fa3c97",
   "metadata": {},
   "source": [
    "# Map,filter and reduce\n",
    "* Map: returns an array of pieces of information from the original array. In the callback function, return the data you wish to be part of the new array.\n",
    "* Filter: returns a subset of the original array based on custom criteria."
   ]
  },
  {
   "cell_type": "markdown",
   "id": "30500c18",
   "metadata": {},
   "source": [
    "## map"
   ]
  },
  {
   "cell_type": "code",
   "execution_count": 2,
   "id": "5d163ead",
   "metadata": {},
   "outputs": [
    {
     "data": {
      "text/plain": [
       "[2, 4, 6, 8, 10, 12, 14, 16, 18]"
      ]
     },
     "execution_count": 2,
     "metadata": {},
     "output_type": "execute_result"
    }
   ],
   "source": [
    "L = [1,2,3,4,5,6,7,8,9]\n",
    "list(map(lambda x : x*2,L))\n"
   ]
  },
  {
   "cell_type": "code",
   "execution_count": 3,
   "id": "028fbb5c",
   "metadata": {},
   "outputs": [
    {
     "data": {
      "text/plain": [
       "[False, True, False, True, False, True, False, True, False]"
      ]
     },
     "execution_count": 3,
     "metadata": {},
     "output_type": "execute_result"
    }
   ],
   "source": [
    "L1 = L = [1,2,3,4,5,6,7,8,9]\n",
    "list(map(lambda x: True if x%2 == 0 else False,L1))"
   ]
  },
  {
   "cell_type": "code",
   "execution_count": 5,
   "id": "09186493",
   "metadata": {},
   "outputs": [
    {
     "name": "stdout",
     "output_type": "stream",
     "text": [
      "[{'name': 'a', 'add': 'Chennai'}, {'name': 'b', 'add': 'mumbai'}]\n"
     ]
    }
   ],
   "source": [
    "students = [\n",
    "    {\"name\":\"a\",\n",
    "    \"add\":\"Chennai\"},{\n",
    "    \"name\":\"b\",\n",
    "    \"add\":\"mumbai\"\n",
    "    }\n",
    "]\n",
    "print(students)"
   ]
  },
  {
   "cell_type": "code",
   "execution_count": 6,
   "id": "139e38c3",
   "metadata": {},
   "outputs": [
    {
     "data": {
      "text/plain": [
       "['a', 'b']"
      ]
     },
     "execution_count": 6,
     "metadata": {},
     "output_type": "execute_result"
    }
   ],
   "source": [
    "list(map(lambda student: student['name'],students))"
   ]
  },
  {
   "cell_type": "markdown",
   "id": "dd97c439",
   "metadata": {},
   "source": [
    "## filter"
   ]
  },
  {
   "cell_type": "code",
   "execution_count": 21,
   "id": "9b62abdc",
   "metadata": {},
   "outputs": [
    {
     "data": {
      "text/plain": [
       "[False, False, False, False, True, True, True]"
      ]
     },
     "execution_count": 21,
     "metadata": {},
     "output_type": "execute_result"
    }
   ],
   "source": [
    "L = [1,2,3,4,5,6,7]\n",
    "list(map(lambda x : x>4,L))\n"
   ]
  },
  {
   "cell_type": "code",
   "execution_count": 22,
   "id": "acf618a2",
   "metadata": {},
   "outputs": [
    {
     "data": {
      "text/plain": [
       "[5, 6, 7]"
      ]
     },
     "execution_count": 22,
     "metadata": {},
     "output_type": "execute_result"
    }
   ],
   "source": [
    "list(filter(lambda x : x>4,L))"
   ]
  },
  {
   "cell_type": "code",
   "execution_count": 23,
   "id": "5a046a68",
   "metadata": {},
   "outputs": [],
   "source": [
    "fruits = ['apple','mango','orange','guava']"
   ]
  },
  {
   "cell_type": "code",
   "execution_count": 24,
   "id": "7bbe1113",
   "metadata": {},
   "outputs": [
    {
     "data": {
      "text/plain": [
       "['apple', 'orange']"
      ]
     },
     "execution_count": 24,
     "metadata": {},
     "output_type": "execute_result"
    }
   ],
   "source": [
    "list(filter(lambda x: 'e' in x,fruits))"
   ]
  },
  {
   "cell_type": "markdown",
   "id": "bf5ad49c",
   "metadata": {},
   "source": [
    "## reduce"
   ]
  },
  {
   "cell_type": "code",
   "execution_count": 8,
   "id": "3561631e",
   "metadata": {},
   "outputs": [],
   "source": [
    "import functools"
   ]
  },
  {
   "cell_type": "code",
   "execution_count": 9,
   "id": "a2c7bf41",
   "metadata": {},
   "outputs": [
    {
     "data": {
      "text/plain": [
       "29"
      ]
     },
     "execution_count": 9,
     "metadata": {},
     "output_type": "execute_result"
    }
   ],
   "source": [
    "L = [4,7,6,3,8,1]\n",
    "functools.reduce(lambda x,y:x+y,L)"
   ]
  },
  {
   "cell_type": "code",
   "execution_count": 10,
   "id": "1802387a",
   "metadata": {},
   "outputs": [
    {
     "name": "stdout",
     "output_type": "stream",
     "text": [
      "biggest number from list is : 99\n"
     ]
    }
   ],
   "source": [
    "# finding max from list\n",
    "L = [45,89,63,74,58,99,11]\n",
    "print(\"biggest number from list is :\",functools.reduce(lambda x,y : x if x > y else y,L))"
   ]
  },
  {
   "cell_type": "code",
   "execution_count": 33,
   "id": "fd5c5006",
   "metadata": {},
   "outputs": [
    {
     "name": "stdout",
     "output_type": "stream",
     "text": [
      "smallest number from list is : 11\n"
     ]
    }
   ],
   "source": [
    "# finding samll from list\n",
    "L = [45,89,63,74,58,99,11]\n",
    "print(\"smallest number from list is :\",functools.reduce(lambda x,y : x if x < y else y,L))"
   ]
  },
  {
   "cell_type": "markdown",
   "id": "c596aaa6",
   "metadata": {},
   "source": [
    "## List comprehension\n",
    "* List comprehension is an elegant way to define and create lists based on existing lists. List comprehension is generally more compact and faster than normal functions and loops for creating list."
   ]
  },
  {
   "cell_type": "code",
   "execution_count": 39,
   "id": "30c184af",
   "metadata": {},
   "outputs": [
    {
     "name": "stdout",
     "output_type": "stream",
     "text": [
      "[90, 178, 126, 148, 116, 198, 22]\n"
     ]
    }
   ],
   "source": [
    "L = [45,89,63,74,58,99,11]\n",
    "\n",
    "L1 = [item*2 for item in L]\n",
    "print(L1)"
   ]
  },
  {
   "cell_type": "code",
   "execution_count": 41,
   "id": "5624d073",
   "metadata": {},
   "outputs": [
    {
     "data": {
      "text/plain": [
       "[0, 1, 4, 9, 16, 25, 36, 49, 64, 81]"
      ]
     },
     "execution_count": 41,
     "metadata": {},
     "output_type": "execute_result"
    }
   ],
   "source": [
    "L2 = [i**2 for i in range(10)]\n",
    "L2"
   ]
  },
  {
   "cell_type": "code",
   "execution_count": 67,
   "id": "2fa82be9",
   "metadata": {},
   "outputs": [
    {
     "data": {
      "text/plain": [
       "['apple']"
      ]
     },
     "execution_count": 67,
     "metadata": {},
     "output_type": "execute_result"
    }
   ],
   "source": [
    "fruits = ['apple','mango','orange','guava']\n",
    "\n",
    "L3 = [f for f in fruits if f[0] == 'a']\n",
    "L3"
   ]
  },
  {
   "cell_type": "markdown",
   "id": "d4784bf8",
   "metadata": {},
   "source": [
    "## Dictionary comprehension"
   ]
  },
  {
   "cell_type": "code",
   "execution_count": 70,
   "id": "ea93cbb8",
   "metadata": {},
   "outputs": [
    {
     "data": {
      "text/plain": [
       "{'name': 'Nitesh', 'Age': 48, 'Gender': 'male'}"
      ]
     },
     "execution_count": 70,
     "metadata": {},
     "output_type": "execute_result"
    }
   ],
   "source": [
    "D = {\"name\":\"Nitesh\",\"Age\":48,\"Gender\":\"male\"}\n",
    "D"
   ]
  },
  {
   "cell_type": "code",
   "execution_count": 71,
   "id": "80b79689",
   "metadata": {},
   "outputs": [
    {
     "data": {
      "text/plain": [
       "dict_values(['Nitesh', 48, 'male'])"
      ]
     },
     "execution_count": 71,
     "metadata": {},
     "output_type": "execute_result"
    }
   ],
   "source": [
    "D.items() # gives list of tuples"
   ]
  },
  {
   "cell_type": "code",
   "execution_count": 72,
   "id": "ddd94779",
   "metadata": {},
   "outputs": [
    {
     "data": {
      "text/plain": [
       "dict_keys(['name', 'Age', 'Gender'])"
      ]
     },
     "execution_count": 72,
     "metadata": {},
     "output_type": "execute_result"
    }
   ],
   "source": [
    "D.keys() # give list of keys"
   ]
  },
  {
   "cell_type": "code",
   "execution_count": 74,
   "id": "86b2f0dd",
   "metadata": {},
   "outputs": [
    {
     "data": {
      "text/plain": [
       "dict_values(['Nitesh', 48, 'male'])"
      ]
     },
     "execution_count": 74,
     "metadata": {},
     "output_type": "execute_result"
    }
   ],
   "source": [
    "D.values() # give list of values"
   ]
  },
  {
   "cell_type": "code",
   "execution_count": 79,
   "id": "371dcf1e",
   "metadata": {},
   "outputs": [
    {
     "data": {
      "text/plain": [
       "{'name': 'Nitesh', 'Gender': 'male'}"
      ]
     },
     "execution_count": 79,
     "metadata": {},
     "output_type": "execute_result"
    }
   ],
   "source": [
    "D1 = {key:value for key,value in D.items() if len(key)> 3}\n",
    "D1"
   ]
  },
  {
   "cell_type": "code",
   "execution_count": 85,
   "id": "35c0c7e8",
   "metadata": {},
   "outputs": [
    {
     "name": "stdout",
     "output_type": "stream",
     "text": [
      "{1: 1, 2: 4, 3: 9, 4: 16, 5: 25, 6: 36}\n"
     ]
    },
    {
     "data": {
      "text/plain": [
       "{2: 4, 4: 16, 6: 36}"
      ]
     },
     "execution_count": 85,
     "metadata": {},
     "output_type": "execute_result"
    }
   ],
   "source": [
    "L = [1,2,3,4,5,6]\n",
    "\n",
    "D2 ={item:item**2 for item in L}\n",
    "print(D2)\n",
    "D3 ={item:item**2 for item in L if item%2 == 0}\n",
    "D3"
   ]
  },
  {
   "cell_type": "markdown",
   "id": "13499cdc",
   "metadata": {},
   "source": [
    "# OOPS in PYTHON"
   ]
  },
  {
   "cell_type": "code",
   "execution_count": 103,
   "id": "89629da4",
   "metadata": {},
   "outputs": [
    {
     "name": "stdout",
     "output_type": "stream",
     "text": [
      "Class name is : Computer\n",
      "Config is : i5  16  GB\n",
      "Class name is : Computer\n",
      "\n",
      "Class name is : Computer\n",
      "Config is : Ryzen  8  GB\n",
      "Class name is : Computer\n",
      "\n"
     ]
    }
   ],
   "source": [
    "class Computer:\n",
    "    def __init__(self,cpu1,ram1):\n",
    "        self.cpu = cpu1\n",
    "        self.ram = ram1\n",
    "        \n",
    "    def config(self):\n",
    "        print(\"Class name is :\",type(comp1).__name__)\n",
    "        print(\"Config is :\",self.cpu,'',self.ram,' GB')\n",
    "        print(\"Class name is :\",self.__class__.__name__)\n",
    "        print('')\n",
    "        \n",
    "        \n",
    "comp1 = Computer(\"i5\",16)\n",
    "comp2 = Computer(\"Ryzen\", 8)\n",
    "\n",
    "comp1.config()\n",
    "comp2.config()\n",
    "\n",
    "# you can not write name of object"
   ]
  },
  {
   "cell_type": "code",
   "execution_count": 105,
   "id": "7e3b3f54",
   "metadata": {},
   "outputs": [
    {
     "name": "stdout",
     "output_type": "stream",
     "text": [
      "Address of comp1 object : 1562557460288 \n",
      "\n",
      "Address of comp2 object : 1562557348064 \n",
      "\n"
     ]
    }
   ],
   "source": [
    "print('Address of comp1 object :',id(comp1),'\\n')\n",
    "print('Address of comp2 object :',id(comp2),'\\n')\n"
   ]
  },
  {
   "cell_type": "code",
   "execution_count": 110,
   "id": "bc388fa0",
   "metadata": {},
   "outputs": [
    {
     "data": {
      "text/plain": [
       "'good'"
      ]
     },
     "execution_count": 110,
     "metadata": {},
     "output_type": "execute_result"
    }
   ],
   "source": [
    "# x = 6\n",
    "# # if else in one line\n",
    "# True if x > 5 else False\n",
    "x = 6\n",
    "# if else in one line\n",
    "\"good\" if x > 5 else \"Bad\""
   ]
  },
  {
   "cell_type": "code",
   "execution_count": 111,
   "id": "98313b02",
   "metadata": {},
   "outputs": [
    {
     "name": "stdout",
     "output_type": "stream",
     "text": [
      "BMW 8 4\n"
     ]
    }
   ],
   "source": [
    "class Car:\n",
    "    wheels = 5\n",
    "    \n",
    "    def __init__(self):\n",
    "        self.name = \"BMW\"\n",
    "        self.mil = 10\n",
    "        \n",
    "\n",
    "c1 = Car()\n",
    "c2 = Car()\n",
    "c1.mil = 8\n",
    "Car.wheels = 4\n",
    "\n",
    "print(c1.name,c1.mil,Car.wheels)\n",
    "\n",
    "\n"
   ]
  },
  {
   "cell_type": "markdown",
   "id": "3145a19a",
   "metadata": {},
   "source": [
    "## Types of variavbles and methods\n",
    "\n",
    "### Variable\n",
    "* 1) Instance variable  (eg. self.a = 23)\n",
    "* 2) Static/Class variable (eg. b = 23)\n",
    "\n",
    "## Methods\n",
    "* 1) Instatnce methods(a. accessors b. mutators) {eg. def sum(self,a,b):  }\n",
    "* 2) Class methods {eg. def get_name(cls):  } \n",
    "* 3) Instance methods {eg. def info():  } "
   ]
  },
  {
   "cell_type": "code",
   "execution_count": null,
   "id": "d5478b0d",
   "metadata": {},
   "outputs": [],
   "source": [
    "class Student:\n",
    "    school = \"CDAC\"\n",
    "    \n",
    "    def __init__(self,m1,m2,m3): # instance method or Constructor\n",
    "        self.m1 = m1\n",
    "        self.m2 = m2\n",
    "        self.m3 = m3\n",
    "        \n",
    "    def avg(self): # instance method \n",
    "        return (self.m1 +self.m2 + self.m3)/3\n",
    "    \n",
    "    def get_m1(self): # instance method or setter or accessor\n",
    "        return self.m1\n",
    "    \n",
    "    def set_m1(self,value): # instance method or getter or mutator\n",
    "        self.m1 = value\n",
    "        \n",
    "    @classmethod # decorator\n",
    "    def getSchool(cls):  # Class Method\n",
    "        return cls.school\n",
    "    \n",
    "    @staticmethod # decorator\n",
    "    def info(): # static method\n",
    "        print(\"This is student class\")\n",
    "            "
   ]
  },
  {
   "cell_type": "code",
   "execution_count": 28,
   "id": "36e07c97",
   "metadata": {},
   "outputs": [],
   "source": [
    "s1 = Student(34,47,32)\n",
    "s2 = Student(48,47,49)"
   ]
  },
  {
   "cell_type": "code",
   "execution_count": 33,
   "id": "6a559d71",
   "metadata": {},
   "outputs": [
    {
     "name": "stdout",
     "output_type": "stream",
     "text": [
      "37.67\n",
      "CDAC\n",
      "This is student class\n"
     ]
    }
   ],
   "source": [
    "print(round(s1.avg(),2))\n",
    "print(Student.getSchool()) # for accessing class methods you can use classname.class_method_name\n",
    "Student.info() # # for static class methods you can  use classname.static_method_name\n",
    "Student.getSchool()"
   ]
  },
  {
   "cell_type": "code",
   "execution_count": 35,
   "id": "bb138419",
   "metadata": {},
   "outputs": [
    {
     "data": {
      "text/plain": [
       "'CDAC'"
      ]
     },
     "execution_count": 35,
     "metadata": {},
     "output_type": "execute_result"
    }
   ],
   "source": [
    "s1.getSchool()"
   ]
  },
  {
   "cell_type": "markdown",
   "id": "680ad325",
   "metadata": {},
   "source": [
    "## Class Inside Class"
   ]
  },
  {
   "cell_type": "code",
   "execution_count": 39,
   "id": "b3a1d46d",
   "metadata": {},
   "outputs": [],
   "source": [
    "class Student:\n",
    "    \n",
    "    def __init__(self,name,roll_no):\n",
    "        self.name = name\n",
    "        self.roll_no = roll_no\n",
    "        self.lap = self.Laptop() # type 1 of creating object from inner class\n",
    "        \n",
    "    def show(self):\n",
    "        print(self.name,self.roll_no)\n",
    "        self.lap.show()\n",
    "        \n",
    "    class Laptop:\n",
    "        def __init__(self):\n",
    "            self.brand = \"HP\"\n",
    "            self.cpu = \"i5\"\n",
    "            \n",
    "        def show(self):\n",
    "            print(self.brand,self.cpu)\n",
    "    \n",
    "    "
   ]
  },
  {
   "cell_type": "code",
   "execution_count": 40,
   "id": "22425103",
   "metadata": {},
   "outputs": [],
   "source": [
    "s1 = Student(\"Navi\",32)\n",
    "s2 = Student(\"Daniel\",49)\n"
   ]
  },
  {
   "cell_type": "code",
   "execution_count": 41,
   "id": "8ecc81a8",
   "metadata": {},
   "outputs": [
    {
     "name": "stdout",
     "output_type": "stream",
     "text": [
      "Navi 32\n",
      "HP i5\n"
     ]
    }
   ],
   "source": [
    "s1.show()"
   ]
  },
  {
   "cell_type": "code",
   "execution_count": 43,
   "id": "26a1a497",
   "metadata": {},
   "outputs": [
    {
     "name": "stdout",
     "output_type": "stream",
     "text": [
      "2097385171072\n",
      "2097392485664\n"
     ]
    }
   ],
   "source": [
    " # type 2 of creating object from inner class\n",
    "lap1 = Student.Laptop()\n",
    "lap2 = Student.Laptop()\n",
    "# creating two differnet object by second method\n",
    "print(id(lap1))\n",
    "print(id(lap2))"
   ]
  },
  {
   "cell_type": "markdown",
   "id": "6d31a29e",
   "metadata": {},
   "source": [
    "## Inheritance in python\n",
    "\n",
    "* multilevel inheritance"
   ]
  },
  {
   "cell_type": "code",
   "execution_count": 56,
   "id": "6b2e63ac",
   "metadata": {},
   "outputs": [],
   "source": [
    "class A:\n",
    "    def f1(self):\n",
    "        print(\"F1 working\")\n",
    "        \n",
    "    def f2(self):\n",
    "        print(\"F2 working\")\n",
    "        \n",
    "        \n",
    "class B(A):\n",
    "    def f3(self):\n",
    "        print(\"F3 working\")\n",
    "        \n",
    "    def f4(self):\n",
    "        print(\"F4 working\")\n",
    "        \n",
    "class C(B):\n",
    "    def f5(self):\n",
    "        print(\"F5 working\")\n",
    "        \n",
    "\n",
    "a1= A()    \n",
    "b1 = B()\n",
    "c1 = C()"
   ]
  },
  {
   "cell_type": "code",
   "execution_count": 55,
   "id": "73c26f59",
   "metadata": {},
   "outputs": [
    {
     "name": "stdout",
     "output_type": "stream",
     "text": [
      "F1 working\n",
      "F2 working\n"
     ]
    }
   ],
   "source": [
    "a1.f1()\n",
    "a1.f2()"
   ]
  },
  {
   "cell_type": "code",
   "execution_count": 53,
   "id": "dab190ad",
   "metadata": {},
   "outputs": [
    {
     "name": "stdout",
     "output_type": "stream",
     "text": [
      "F1 working\n",
      "F3 working\n"
     ]
    }
   ],
   "source": [
    "b1.f1()\n",
    "b1.f3()"
   ]
  },
  {
   "cell_type": "code",
   "execution_count": 57,
   "id": "48efc895",
   "metadata": {},
   "outputs": [
    {
     "name": "stdout",
     "output_type": "stream",
     "text": [
      "F1 working\n"
     ]
    }
   ],
   "source": [
    "c1.f1()"
   ]
  },
  {
   "cell_type": "markdown",
   "id": "af227876",
   "metadata": {},
   "source": [
    "* multiple inheritance"
   ]
  },
  {
   "cell_type": "code",
   "execution_count": 59,
   "id": "cd301fb4",
   "metadata": {},
   "outputs": [],
   "source": [
    "class D:\n",
    "    def f1(self):\n",
    "        print(\"F1 working\")\n",
    "        \n",
    "    def f2(self):\n",
    "        print(\"F2 working\")\n",
    "        \n",
    "        \n",
    "class E():\n",
    "    def f3(self):\n",
    "        print(\"F3 working\")\n",
    "        \n",
    "    def f4(self):\n",
    "        print(\"F4 working\")\n",
    "        \n",
    "class F(D,E):\n",
    "    def f5(self):\n",
    "        print(\"F5 working\")\n",
    "        \n",
    "d1 = D()\n",
    "e1 = E()\n",
    "f1 = F()\n",
    "        "
   ]
  },
  {
   "cell_type": "code",
   "execution_count": 61,
   "id": "9adbf448",
   "metadata": {},
   "outputs": [
    {
     "name": "stdout",
     "output_type": "stream",
     "text": [
      "F1 working\n"
     ]
    }
   ],
   "source": [
    "d1.f1()"
   ]
  },
  {
   "cell_type": "code",
   "execution_count": 62,
   "id": "7cd3757c",
   "metadata": {},
   "outputs": [
    {
     "name": "stdout",
     "output_type": "stream",
     "text": [
      "F3 working\n"
     ]
    }
   ],
   "source": [
    "e1.f3()"
   ]
  },
  {
   "cell_type": "code",
   "execution_count": 64,
   "id": "8f80732c",
   "metadata": {},
   "outputs": [
    {
     "name": "stdout",
     "output_type": "stream",
     "text": [
      "F1 working\n",
      "F3 working\n",
      "F5 working\n"
     ]
    }
   ],
   "source": [
    "f1.f1()\n",
    "f1.f3()\n",
    "f1.f5()"
   ]
  },
  {
   "cell_type": "markdown",
   "id": "b3e7a0c8",
   "metadata": {},
   "source": [
    "* constructor in Inheritance"
   ]
  },
  {
   "cell_type": "code",
   "execution_count": 89,
   "id": "f1ee2f37",
   "metadata": {},
   "outputs": [
    {
     "name": "stdout",
     "output_type": "stream",
     "text": [
      "In a init of class A \n",
      "\n",
      "In a init of class B \n",
      "\n",
      "In a init of class A \n",
      "\n",
      "In a init of class C\n"
     ]
    }
   ],
   "source": [
    "# by default if child class not have __init__ constructor method it will call __init__ method of parent class \n",
    "# by default if child class have __init__ constructor method it will call __init__ method of it's own class \n",
    "\n",
    "class A:\n",
    "    \n",
    "    def __init__(self):\n",
    "        print(\"In a init of class A \\n\")\n",
    "        \n",
    "    \n",
    "    def f1(self):\n",
    "        print(\"F1 working\")\n",
    "        \n",
    "    def f2(self):\n",
    "        print(\"F2 working\")\n",
    "        \n",
    "        \n",
    "class B():\n",
    "    \n",
    "    def __init__(self):\n",
    "        # super().__init__()\n",
    "        print(\"In a init of class B \\n\")\n",
    "    \n",
    "    def f1(self):\n",
    "        print(\"F3 working\")\n",
    "        \n",
    "    def f4(self):\n",
    "        print(\"F4 working\")\n",
    "        \n",
    "class C(A,B):\n",
    "    def __init__(self):\n",
    "        super().__init__()\n",
    "        print(\"In a init of class C\")\n",
    "    \n",
    "    def f5(self):\n",
    "        # you can use super keyword to call other methods also\n",
    "        super().f2()\n",
    "        print(\"F5 working\")\n",
    "        \n",
    "a1 = A()\n",
    "b1 = B()\n",
    "# method resolution order(M.R.O.)\n",
    "c1 = C() # always call from left to right"
   ]
  },
  {
   "cell_type": "code",
   "execution_count": 87,
   "id": "f013fcbc",
   "metadata": {},
   "outputs": [
    {
     "name": "stdout",
     "output_type": "stream",
     "text": [
      "F1 working\n",
      "F3 working\n"
     ]
    }
   ],
   "source": [
    "\n",
    "a1.f1()\n",
    "b1.f1()"
   ]
  },
  {
   "cell_type": "code",
   "execution_count": 90,
   "id": "7f138dcf",
   "metadata": {},
   "outputs": [
    {
     "name": "stdout",
     "output_type": "stream",
     "text": [
      "F2 working\n",
      "F5 working\n"
     ]
    }
   ],
   "source": [
    "c1.f5()"
   ]
  },
  {
   "cell_type": "markdown",
   "id": "7acd03e0",
   "metadata": {},
   "source": [
    "* Duck Typing"
   ]
  },
  {
   "cell_type": "code",
   "execution_count": 93,
   "id": "672121cc",
   "metadata": {},
   "outputs": [],
   "source": [
    "class Pycharm:\n",
    "    def execute(self):\n",
    "        print(\"compiling\")\n",
    "        \n",
    "        \n",
    "class MyEditor:\n",
    "    def execute(self):\n",
    "        print(\"compiling\")       \n",
    "        print(\"Running\")\n",
    "        \n",
    "class Laptop:\n",
    "    def code(self,ide):\n",
    "        ide.execute()\n",
    "        \n",
    "ide = Pycharm()\n",
    "\n",
    "lap1 = Laptop()\n",
    "        \n",
    "\n",
    "        \n",
    "        "
   ]
  },
  {
   "cell_type": "code",
   "execution_count": 94,
   "id": "76c1800c",
   "metadata": {},
   "outputs": [
    {
     "name": "stdout",
     "output_type": "stream",
     "text": [
      "compiling\n"
     ]
    }
   ],
   "source": [
    "lap1.code(ide)"
   ]
  },
  {
   "cell_type": "markdown",
   "id": "bd10e753",
   "metadata": {},
   "source": [
    "* operator overloading"
   ]
  },
  {
   "cell_type": "code",
   "execution_count": 99,
   "id": "46100a53",
   "metadata": {},
   "outputs": [
    {
     "name": "stdout",
     "output_type": "stream",
     "text": [
      "11\n",
      "11\n",
      "ab\n",
      "ab\n"
     ]
    }
   ],
   "source": [
    "a = 5\n",
    "b = 6\n",
    "print(a+b)# when you call a+b\n",
    "print(int.__add__(a,b))# behind the scenes it happens\n",
    "\n",
    "a = 'a'\n",
    "b = 'b'\n",
    "print(a+b)\n",
    "print(str.__add__(a,b)) # magic methods"
   ]
  },
  {
   "cell_type": "code",
   "execution_count": 127,
   "id": "240354f8",
   "metadata": {},
   "outputs": [
    {
     "name": "stdout",
     "output_type": "stream",
     "text": [
      "124\n",
      "s2 wins\n",
      "<__main__.Students object at 0x000001E855D43160>\n",
      "<__main__.Students object at 0x000001E855D43160>\n",
      "<__main__.Students object at 0x000001E855D43A30>\n"
     ]
    }
   ],
   "source": [
    "class Students:\n",
    "    \n",
    "    def __init__(self,m1,m2):\n",
    "        self.m1=m1\n",
    "        self.m2=m2\n",
    "        \n",
    "    def __add__(self,other):\n",
    "        m1 = self.m1 + other.m1\n",
    "        m2 = self.m2 + other.m2\n",
    "        s3=Students(m1,m2)\n",
    "        return s3\n",
    "    \n",
    "    def __gt__(self,other):\n",
    "        r1 = self.m1 + self.m2\n",
    "        r2 = other.m1+ other.m2\n",
    "        if r1>r2:\n",
    "            return True\n",
    "        else:\n",
    "            False\n",
    "            \n",
    "        def __str__(self):\n",
    "            return '{} {} ' .format(self.m1,self.m2)\n",
    "        \n",
    "s1 = Students(58,59)\n",
    "s2 = Students(60,65)  \n",
    "\n",
    "s3 = s1+s2\n",
    "print(s3.m2)\n",
    "\n",
    "if s1 > s2:\n",
    "    print(\"S1 wins\")  \n",
    "else:\n",
    "    print(\"s2 wins\")\n",
    "    \n",
    "print(s1)\n",
    "print(s1.__str__())\n",
    "print(s2)"
   ]
  },
  {
   "cell_type": "markdown",
   "id": "821836c4",
   "metadata": {},
   "source": [
    "* method overloading   (same method name, different parameters,same class) does not support by python\n",
    "\n",
    "### Method overriding\n",
    "\n",
    "* Same method name , same parameter , different class "
   ]
  },
  {
   "cell_type": "code",
   "execution_count": 133,
   "id": "a55a7b69",
   "metadata": {},
   "outputs": [
    {
     "name": "stdout",
     "output_type": "stream",
     "text": [
      "in B show\n"
     ]
    }
   ],
   "source": [
    "class A:\n",
    "    def show(self):\n",
    "        print(\"In A show\")\n",
    "        \n",
    "class B(A):\n",
    "    def show(self):\n",
    "        print(\"in B show\")\n",
    "      \n",
    "\n",
    "a1 = B()\n",
    "a1.show()\n",
    "\n",
    "# show method of class B overrides the show method of class A "
   ]
  },
  {
   "cell_type": "code",
   "execution_count": null,
   "id": "d245d31f",
   "metadata": {},
   "outputs": [],
   "source": []
  }
 ],
 "metadata": {
  "kernelspec": {
   "display_name": "Python 3 (ipykernel)",
   "language": "python",
   "name": "python3"
  },
  "language_info": {
   "codemirror_mode": {
    "name": "ipython",
    "version": 3
   },
   "file_extension": ".py",
   "mimetype": "text/x-python",
   "name": "python",
   "nbconvert_exporter": "python",
   "pygments_lexer": "ipython3",
   "version": "3.9.15"
  }
 },
 "nbformat": 4,
 "nbformat_minor": 5
}
